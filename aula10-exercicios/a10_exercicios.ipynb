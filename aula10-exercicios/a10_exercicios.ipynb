{
 "cells": [
  {
   "cell_type": "markdown",
   "metadata": {},
   "source": [
    "Treinando\n",
    "Vamos responder algumas perguntas, usando o df_titanic:\n",
    "\n",
    "1) Qual a idade da pessoa mais velha do titanic?\n",
    "2) Quantos passageiros existiam na primeira classe?\n",
    "3) Qual foi o ticket médio que as pessoas da primeira classe pagaram? E da última?\n",
    "4) Houve mais sobreviventes em quem embarcou na cabine C ou na cabine S?\n",
    "5) Entre as mulheres, qual a porcentagem que sobreviveu no titanic? E entre os homens?"
   ]
  },
  {
   "cell_type": "code",
   "execution_count": 1,
   "metadata": {},
   "outputs": [
    {
     "name": "stdout",
     "output_type": "stream",
     "text": [
      "Requirement already satisfied: pandas in /opt/anaconda3/lib/python3.12/site-packages (2.2.2)\n",
      "Requirement already satisfied: numpy>=1.26.0 in /opt/anaconda3/lib/python3.12/site-packages (from pandas) (1.26.4)\n",
      "Requirement already satisfied: python-dateutil>=2.8.2 in /opt/anaconda3/lib/python3.12/site-packages (from pandas) (2.8.2)\n",
      "Requirement already satisfied: pytz>=2020.1 in /opt/anaconda3/lib/python3.12/site-packages (from pandas) (2024.1)\n",
      "Requirement already satisfied: tzdata>=2022.7 in /opt/anaconda3/lib/python3.12/site-packages (from pandas) (2023.3)\n",
      "Requirement already satisfied: six>=1.5 in /opt/anaconda3/lib/python3.12/site-packages (from python-dateutil>=2.8.2->pandas) (1.16.0)\n"
     ]
    }
   ],
   "source": [
    "!pip install pandas"
   ]
  },
  {
   "cell_type": "code",
   "execution_count": 2,
   "metadata": {},
   "outputs": [],
   "source": [
    "import pandas as pd"
   ]
  },
  {
   "cell_type": "code",
   "execution_count": 3,
   "metadata": {},
   "outputs": [],
   "source": [
    "df_titanic = pd.read_csv(\"./titanic.csv\")"
   ]
  },
  {
   "cell_type": "code",
   "execution_count": 4,
   "metadata": {},
   "outputs": [
    {
     "data": {
      "text/html": [
       "<div>\n",
       "<style scoped>\n",
       "    .dataframe tbody tr th:only-of-type {\n",
       "        vertical-align: middle;\n",
       "    }\n",
       "\n",
       "    .dataframe tbody tr th {\n",
       "        vertical-align: top;\n",
       "    }\n",
       "\n",
       "    .dataframe thead th {\n",
       "        text-align: right;\n",
       "    }\n",
       "</style>\n",
       "<table border=\"1\" class=\"dataframe\">\n",
       "  <thead>\n",
       "    <tr style=\"text-align: right;\">\n",
       "      <th></th>\n",
       "      <th>survived</th>\n",
       "      <th>pclass</th>\n",
       "      <th>sex</th>\n",
       "      <th>age</th>\n",
       "      <th>sibsp</th>\n",
       "      <th>parch</th>\n",
       "      <th>fare</th>\n",
       "      <th>embarked</th>\n",
       "      <th>deck</th>\n",
       "    </tr>\n",
       "  </thead>\n",
       "  <tbody>\n",
       "    <tr>\n",
       "      <th>0</th>\n",
       "      <td>0</td>\n",
       "      <td>3</td>\n",
       "      <td>male</td>\n",
       "      <td>22.0</td>\n",
       "      <td>1</td>\n",
       "      <td>0</td>\n",
       "      <td>7.2500</td>\n",
       "      <td>S</td>\n",
       "      <td>NaN</td>\n",
       "    </tr>\n",
       "    <tr>\n",
       "      <th>1</th>\n",
       "      <td>1</td>\n",
       "      <td>1</td>\n",
       "      <td>female</td>\n",
       "      <td>38.0</td>\n",
       "      <td>1</td>\n",
       "      <td>0</td>\n",
       "      <td>71.2833</td>\n",
       "      <td>C</td>\n",
       "      <td>C</td>\n",
       "    </tr>\n",
       "    <tr>\n",
       "      <th>2</th>\n",
       "      <td>1</td>\n",
       "      <td>3</td>\n",
       "      <td>female</td>\n",
       "      <td>26.0</td>\n",
       "      <td>0</td>\n",
       "      <td>0</td>\n",
       "      <td>7.9250</td>\n",
       "      <td>S</td>\n",
       "      <td>NaN</td>\n",
       "    </tr>\n",
       "    <tr>\n",
       "      <th>3</th>\n",
       "      <td>1</td>\n",
       "      <td>1</td>\n",
       "      <td>female</td>\n",
       "      <td>35.0</td>\n",
       "      <td>1</td>\n",
       "      <td>0</td>\n",
       "      <td>53.1000</td>\n",
       "      <td>S</td>\n",
       "      <td>C</td>\n",
       "    </tr>\n",
       "    <tr>\n",
       "      <th>4</th>\n",
       "      <td>0</td>\n",
       "      <td>3</td>\n",
       "      <td>male</td>\n",
       "      <td>35.0</td>\n",
       "      <td>0</td>\n",
       "      <td>0</td>\n",
       "      <td>8.0500</td>\n",
       "      <td>S</td>\n",
       "      <td>NaN</td>\n",
       "    </tr>\n",
       "  </tbody>\n",
       "</table>\n",
       "</div>"
      ],
      "text/plain": [
       "   survived  pclass     sex   age  sibsp  parch     fare embarked deck\n",
       "0         0       3    male  22.0      1      0   7.2500        S  NaN\n",
       "1         1       1  female  38.0      1      0  71.2833        C    C\n",
       "2         1       3  female  26.0      0      0   7.9250        S  NaN\n",
       "3         1       1  female  35.0      1      0  53.1000        S    C\n",
       "4         0       3    male  35.0      0      0   8.0500        S  NaN"
      ]
     },
     "execution_count": 4,
     "metadata": {},
     "output_type": "execute_result"
    }
   ],
   "source": [
    "df_titanic.head()"
   ]
  },
  {
   "cell_type": "code",
   "execution_count": 5,
   "metadata": {},
   "outputs": [
    {
     "data": {
      "text/plain": [
       "80.0"
      ]
     },
     "execution_count": 5,
     "metadata": {},
     "output_type": "execute_result"
    }
   ],
   "source": [
    "# 1) Qual a idade da pessoa mais velha do titanic?\n",
    "\n",
    "df_titanic['age'].max()"
   ]
  },
  {
   "cell_type": "code",
   "execution_count": 16,
   "metadata": {},
   "outputs": [
    {
     "name": "stdout",
     "output_type": "stream",
     "text": [
      "The oldest person on the Titanic was 80.0 years old.\n"
     ]
    }
   ],
   "source": [
    "oldest_person_age = df_titanic['age'].max()\n",
    "print(f\"The oldest person on the Titanic was {oldest_person_age} years old.\")"
   ]
  },
  {
   "cell_type": "code",
   "execution_count": 6,
   "metadata": {},
   "outputs": [
    {
     "data": {
      "text/plain": [
       "216"
      ]
     },
     "execution_count": 6,
     "metadata": {},
     "output_type": "execute_result"
    }
   ],
   "source": [
    "# 2) Quantos passageiros existiam na primeira classe?\n",
    "\n",
    "df_titanic[df_titanic['pclass'] == 1].shape[0]"
   ]
  },
  {
   "cell_type": "code",
   "execution_count": 18,
   "metadata": {},
   "outputs": [
    {
     "name": "stdout",
     "output_type": "stream",
     "text": [
      "There were 216 passengers in the first class.\n"
     ]
    }
   ],
   "source": [
    "first_class_passengers = df_titanic[df_titanic['pclass'] == 1].shape[0]\n",
    "print(f\"There were {first_class_passengers} passengers in the first class.\")"
   ]
  },
  {
   "cell_type": "code",
   "execution_count": 7,
   "metadata": {},
   "outputs": [
    {
     "data": {
      "text/plain": [
       "84.1546875"
      ]
     },
     "execution_count": 7,
     "metadata": {},
     "output_type": "execute_result"
    }
   ],
   "source": [
    "# 3) Qual foi o ticket médio que as pessoas da primeira classe pagaram? E da última?\n",
    "# Primeira Classe\n",
    "df_titanic[df_titanic['pclass'] == 1]['fare'].mean()"
   ]
  },
  {
   "cell_type": "code",
   "execution_count": 8,
   "metadata": {},
   "outputs": [
    {
     "data": {
      "text/plain": [
       "13.675550101832993"
      ]
     },
     "execution_count": 8,
     "metadata": {},
     "output_type": "execute_result"
    }
   ],
   "source": [
    "# Terceira Classe\n",
    "df_titanic[df_titanic['pclass'] == 3]['fare'].mean()"
   ]
  },
  {
   "cell_type": "code",
   "execution_count": 19,
   "metadata": {},
   "outputs": [
    {
     "name": "stdout",
     "output_type": "stream",
     "text": [
      "The average ticket price for first class passengers was 84.15.\n",
      "The average ticket price for third class passengers was 13.68.\n"
     ]
    }
   ],
   "source": [
    "df_titanic[df_titanic['pclass'] == 1]['fare'].mean()\n",
    "df_titanic[df_titanic['pclass'] == 3]['fare'].mean()\n",
    "\n",
    "average_first_class_ticket_price = df_titanic[df_titanic['pclass'] == 1]['fare'].mean()\n",
    "average_third_class_ticket_price = df_titanic[df_titanic['pclass'] == 3]['fare'].mean()\n",
    "\n",
    "print(f\"The average ticket price for first class passengers was {average_first_class_ticket_price:.2f}.\")\n",
    "print(f\"The average ticket price for third class passengers was {average_third_class_ticket_price:.2f}.\")"
   ]
  },
  {
   "cell_type": "code",
   "execution_count": 9,
   "metadata": {},
   "outputs": [
    {
     "data": {
      "text/plain": [
       "93"
      ]
     },
     "execution_count": 9,
     "metadata": {},
     "output_type": "execute_result"
    }
   ],
   "source": [
    "# 4) Houve mais sobreviventes em quem embarcou na cabine C ou na cabine S?\n",
    "# Survived class C\n",
    "df_titanic[df_titanic['embarked'] == 'C']['survived'].sum()"
   ]
  },
  {
   "cell_type": "code",
   "execution_count": 10,
   "metadata": {},
   "outputs": [
    {
     "data": {
      "text/plain": [
       "217"
      ]
     },
     "execution_count": 10,
     "metadata": {},
     "output_type": "execute_result"
    }
   ],
   "source": [
    "# Survived class C\n",
    "df_titanic[df_titanic['embarked'] == 'S']['survived'].sum()"
   ]
  },
  {
   "cell_type": "code",
   "execution_count": 20,
   "metadata": {},
   "outputs": [
    {
     "name": "stdout",
     "output_type": "stream",
     "text": [
      "There were more survivors in cabin S.\n"
     ]
    }
   ],
   "source": [
    "cabin_c_survivors = df_titanic[df_titanic['embarked'] == 'C']['survived'].sum()\n",
    "cabin_s_survivors = df_titanic[df_titanic['embarked'] == 'S']['survived'].sum()\n",
    "\n",
    "if cabin_c_survivors > cabin_s_survivors:\n",
    "    print(\"There were more survivors in cabin C.\")\n",
    "else:\n",
    "    print(\"There were more survivors in cabin S.\")"
   ]
  },
  {
   "cell_type": "code",
   "execution_count": 11,
   "metadata": {},
   "outputs": [
    {
     "data": {
      "text/plain": [
       "74.20382165605095"
      ]
     },
     "execution_count": 11,
     "metadata": {},
     "output_type": "execute_result"
    }
   ],
   "source": [
    "# 5) Entre as mulheres, qual a porcentagem que sobreviveu no titanic? E entre os homens? E entre as crianças?\n",
    "\n",
    "# Women:\n",
    "total_women = df_titanic[df_titanic['sex'] == 'female'].shape[0]\n",
    "surviving_women = df_titanic[(df_titanic['sex'] == 'female') & (df_titanic['survived'] == 1)].shape[0]\n",
    "surviving_women / total_women * 100"
   ]
  },
  {
   "cell_type": "code",
   "execution_count": 14,
   "metadata": {},
   "outputs": [
    {
     "data": {
      "text/plain": [
       "18.890814558058924"
      ]
     },
     "execution_count": 14,
     "metadata": {},
     "output_type": "execute_result"
    }
   ],
   "source": [
    "# Men:\n",
    "total_men = df_titanic[df_titanic['sex'] == 'male'].shape[0]\n",
    "surviving_men = df_titanic[(df_titanic['sex'] == 'male') & (df_titanic['survived'] == 1)].shape[0]\n",
    "surviving_men / total_men * 100"
   ]
  },
  {
   "cell_type": "code",
   "execution_count": 15,
   "metadata": {},
   "outputs": [
    {
     "data": {
      "text/plain": [
       "53.98230088495575"
      ]
     },
     "execution_count": 15,
     "metadata": {},
     "output_type": "execute_result"
    }
   ],
   "source": [
    "# Children\n",
    "total_children = df_titanic[df_titanic['age'] < 18].shape[0]\n",
    "surviving_children = df_titanic[(df_titanic['age'] < 18) & (df_titanic['survived'] == 1)].shape[0]\n",
    "surviving_children / total_children * 100"
   ]
  },
  {
   "cell_type": "code",
   "execution_count": 21,
   "metadata": {},
   "outputs": [
    {
     "name": "stdout",
     "output_type": "stream",
     "text": [
      "Percentage of women who survived: 74.20%\n",
      "Percentage of men who survived: 18.89%\n",
      "Percentage of children who survived: 53.98%\n"
     ]
    }
   ],
   "source": [
    "total_women = df_titanic[df_titanic['sex'] == 'female'].shape[0]\n",
    "surviving_women = df_titanic[(df_titanic['sex'] == 'female') & (df_titanic['survived'] == 1)].shape[0]\n",
    "women_survival_percentage = surviving_women / total_women * 100\n",
    "\n",
    "total_men = df_titanic[df_titanic['sex'] == 'male'].shape[0]\n",
    "surviving_men = df_titanic[(df_titanic['sex'] == 'male') & (df_titanic['survived'] == 1)].shape[0]\n",
    "men_survival_percentage = surviving_men / total_men * 100\n",
    "\n",
    "total_children = df_titanic[df_titanic['age'] < 18].shape[0]\n",
    "surviving_children = df_titanic[(df_titanic['age'] < 18) & (df_titanic['survived'] == 1)].shape[0]\n",
    "children_survival_percentage = surviving_children / total_children * 100\n",
    "\n",
    "print(f\"Percentage of women who survived: {women_survival_percentage:.2f}%\")\n",
    "print(f\"Percentage of men who survived: {men_survival_percentage:.2f}%\")\n",
    "print(f\"Percentage of children who survived: {children_survival_percentage:.2f}%\")"
   ]
  }
 ],
 "metadata": {
  "kernelspec": {
   "display_name": "base",
   "language": "python",
   "name": "python3"
  },
  "language_info": {
   "codemirror_mode": {
    "name": "ipython",
    "version": 3
   },
   "file_extension": ".py",
   "mimetype": "text/x-python",
   "name": "python",
   "nbconvert_exporter": "python",
   "pygments_lexer": "ipython3",
   "version": "3.12.4"
  }
 },
 "nbformat": 4,
 "nbformat_minor": 2
}
