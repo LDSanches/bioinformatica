#!pip install pandas

import pandas as pd

df_titanic = pd.read_csv("titanic.csv")

#
# df_titanic.head()